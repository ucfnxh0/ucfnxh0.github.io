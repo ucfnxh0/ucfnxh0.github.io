{
  "cells": [
    {
      "cell_type": "markdown",
      "metadata": {
        "id": "cMNqjvr6WCWQ"
      },
      "source": [
        "# Spatial Joins Exercises\n",
        "\n",
        "Here\\'s a reminder of some of the functions we have seen. Hint: they\n",
        "should be useful for the exercises!\n",
        "\n",
        "-   `sum(expression)`: aggregate to\n",
        "    return a sum for a set of records\n",
        "-   `count(expression)`: aggregate to\n",
        "    return the size of a set of records\n",
        "-   `ST_Area(geometry)` returns the\n",
        "    area of the polygons\n",
        "-   `ST_AsText(geometry)` returns WKT `text`\n",
        "-   `ST_Contains(geometry A, geometry B)` returns the true if geometry A contains geometry B\n",
        "-   `ST_Distance(geometry A, geometry B)` returns the minimum distance between geometry A and\n",
        "    geometry B\n",
        "-   `ST_DWithin(geometry A, geometry B, radius)` returns the true if geometry A is radius distance or less from geometry B\n",
        "-   `ST_GeomFromText(text)` returns `geometry`\n",
        "-   `ST_Intersects(geometry A, geometry B)` returns the true if geometry A intersects geometry B\n",
        "-   `ST_Length(linestring)` returns the length of the linestring\n",
        "-   `ST_Touches(geometry A, geometry B)` returns the true if the boundary of geometry A touches geometry B\n",
        "-   `ST_Within(geometry A, geometry B)` returns the true if geometry A is within geometry B\n",
        "\n",
        "\n",
        "Uncomment and run the following cell to install the required packages.\n"
      ]
    },
    {
      "cell_type": "code",
      "execution_count": 1,
      "metadata": {
        "id": "tbdJ9sAJWCWY",
        "outputId": "523b4f73-c06b-4f76-c4b1-36bbab960d87",
        "colab": {
          "base_uri": "https://localhost:8080/"
        }
      },
      "outputs": [
        {
          "output_type": "stream",
          "name": "stdout",
          "text": [
            "Requirement already satisfied: duckdb in /usr/local/lib/python3.11/dist-packages (1.1.3)\n",
            "Collecting leafmap\n",
            "  Downloading leafmap-0.42.9-py2.py3-none-any.whl.metadata (16 kB)\n",
            "Collecting lonboard\n",
            "  Downloading lonboard-0.10.4-py3-none-any.whl.metadata (5.1 kB)\n",
            "Collecting anywidget (from leafmap)\n",
            "  Downloading anywidget-0.9.13-py3-none-any.whl.metadata (7.2 kB)\n",
            "Requirement already satisfied: bqplot in /usr/local/lib/python3.11/dist-packages (from leafmap) (0.12.44)\n",
            "Requirement already satisfied: colour in /usr/local/lib/python3.11/dist-packages (from leafmap) (0.1.5)\n",
            "Requirement already satisfied: folium in /usr/local/lib/python3.11/dist-packages (from leafmap) (0.19.4)\n",
            "Requirement already satisfied: gdown in /usr/local/lib/python3.11/dist-packages (from leafmap) (5.2.0)\n",
            "Collecting geojson (from leafmap)\n",
            "  Downloading geojson-3.2.0-py3-none-any.whl.metadata (16 kB)\n",
            "Requirement already satisfied: ipyevents in /usr/local/lib/python3.11/dist-packages (from leafmap) (2.0.2)\n",
            "Requirement already satisfied: ipyfilechooser in /usr/local/lib/python3.11/dist-packages (from leafmap) (0.6.0)\n",
            "Requirement already satisfied: ipyleaflet in /usr/local/lib/python3.11/dist-packages (from leafmap) (0.19.2)\n",
            "Collecting ipyvuetify (from leafmap)\n",
            "  Downloading ipyvuetify-1.10.0-py2.py3-none-any.whl.metadata (7.5 kB)\n",
            "Requirement already satisfied: ipywidgets in /usr/local/lib/python3.11/dist-packages (from leafmap) (7.7.1)\n",
            "Requirement already satisfied: matplotlib in /usr/local/lib/python3.11/dist-packages (from leafmap) (3.10.0)\n",
            "Requirement already satisfied: numpy in /usr/local/lib/python3.11/dist-packages (from leafmap) (1.26.4)\n",
            "Requirement already satisfied: pandas in /usr/local/lib/python3.11/dist-packages (from leafmap) (2.2.2)\n",
            "Requirement already satisfied: plotly in /usr/local/lib/python3.11/dist-packages (from leafmap) (5.24.1)\n",
            "Requirement already satisfied: psutil in /usr/local/lib/python3.11/dist-packages (from leafmap) (5.9.5)\n",
            "Requirement already satisfied: pyshp in /usr/local/lib/python3.11/dist-packages (from leafmap) (2.3.1)\n",
            "Collecting pystac-client (from leafmap)\n",
            "  Downloading pystac_client-0.8.5-py3-none-any.whl.metadata (5.1 kB)\n",
            "Requirement already satisfied: python-box in /usr/local/lib/python3.11/dist-packages (from leafmap) (7.3.2)\n",
            "Requirement already satisfied: scooby in /usr/local/lib/python3.11/dist-packages (from leafmap) (0.10.0)\n",
            "Collecting whiteboxgui (from leafmap)\n",
            "  Downloading whiteboxgui-2.3.0-py2.py3-none-any.whl.metadata (5.7 kB)\n",
            "Requirement already satisfied: xyzservices in /usr/local/lib/python3.11/dist-packages (from leafmap) (2025.1.0)\n",
            "Collecting arro3-compute>=0.4.1 (from lonboard)\n",
            "  Downloading arro3_compute-0.4.5-cp311-cp311-manylinux_2_17_x86_64.manylinux2014_x86_64.whl.metadata (913 bytes)\n",
            "Collecting arro3-core>=0.4.1 (from lonboard)\n",
            "  Downloading arro3_core-0.4.5-cp311-cp311-manylinux_2_17_x86_64.manylinux2014_x86_64.whl.metadata (885 bytes)\n",
            "Collecting arro3-io>=0.4.1 (from lonboard)\n",
            "  Downloading arro3_io-0.4.5-cp311-cp311-manylinux_2_17_x86_64.manylinux2014_x86_64.whl.metadata (907 bytes)\n",
            "Requirement already satisfied: pyproj>=3.3 in /usr/local/lib/python3.11/dist-packages (from lonboard) (3.7.0)\n",
            "Requirement already satisfied: traitlets>=5.7.1 in /usr/local/lib/python3.11/dist-packages (from lonboard) (5.7.1)\n",
            "Requirement already satisfied: typing-extensions<5.0.0,>=4.6.0 in /usr/local/lib/python3.11/dist-packages (from lonboard) (4.12.2)\n",
            "Collecting psygnal>=0.8.1 (from anywidget->leafmap)\n",
            "  Downloading psygnal-0.12.0-cp311-cp311-manylinux_2_17_x86_64.manylinux2014_x86_64.whl.metadata (7.7 kB)\n",
            "Requirement already satisfied: ipykernel>=4.5.1 in /usr/local/lib/python3.11/dist-packages (from ipywidgets->leafmap) (5.5.6)\n",
            "Requirement already satisfied: ipython-genutils~=0.2.0 in /usr/local/lib/python3.11/dist-packages (from ipywidgets->leafmap) (0.2.0)\n",
            "Requirement already satisfied: widgetsnbextension~=3.6.0 in /usr/local/lib/python3.11/dist-packages (from ipywidgets->leafmap) (3.6.10)\n",
            "Requirement already satisfied: ipython>=4.0.0 in /usr/local/lib/python3.11/dist-packages (from ipywidgets->leafmap) (7.34.0)\n",
            "Requirement already satisfied: jupyterlab-widgets>=1.0.0 in /usr/local/lib/python3.11/dist-packages (from ipywidgets->leafmap) (3.0.13)\n",
            "Requirement already satisfied: certifi in /usr/local/lib/python3.11/dist-packages (from pyproj>=3.3->lonboard) (2025.1.31)\n",
            "Requirement already satisfied: traittypes>=0.0.6 in /usr/local/lib/python3.11/dist-packages (from bqplot->leafmap) (0.2.1)\n",
            "Requirement already satisfied: python-dateutil>=2.8.2 in /usr/local/lib/python3.11/dist-packages (from pandas->leafmap) (2.8.2)\n",
            "Requirement already satisfied: pytz>=2020.1 in /usr/local/lib/python3.11/dist-packages (from pandas->leafmap) (2025.1)\n",
            "Requirement already satisfied: tzdata>=2022.7 in /usr/local/lib/python3.11/dist-packages (from pandas->leafmap) (2025.1)\n",
            "Requirement already satisfied: branca>=0.6.0 in /usr/local/lib/python3.11/dist-packages (from folium->leafmap) (0.8.1)\n",
            "Requirement already satisfied: jinja2>=2.9 in /usr/local/lib/python3.11/dist-packages (from folium->leafmap) (3.1.5)\n",
            "Requirement already satisfied: requests in /usr/local/lib/python3.11/dist-packages (from folium->leafmap) (2.32.3)\n",
            "Requirement already satisfied: beautifulsoup4 in /usr/local/lib/python3.11/dist-packages (from gdown->leafmap) (4.13.3)\n",
            "Requirement already satisfied: filelock in /usr/local/lib/python3.11/dist-packages (from gdown->leafmap) (3.17.0)\n",
            "Requirement already satisfied: tqdm in /usr/local/lib/python3.11/dist-packages (from gdown->leafmap) (4.67.1)\n",
            "Requirement already satisfied: jupyter-leaflet<0.20,>=0.19 in /usr/local/lib/python3.11/dist-packages (from ipyleaflet->leafmap) (0.19.2)\n",
            "Collecting ipyvue<2,>=1.7 (from ipyvuetify->leafmap)\n",
            "  Downloading ipyvue-1.11.2-py2.py3-none-any.whl.metadata (1.1 kB)\n",
            "Requirement already satisfied: contourpy>=1.0.1 in /usr/local/lib/python3.11/dist-packages (from matplotlib->leafmap) (1.3.1)\n",
            "Requirement already satisfied: cycler>=0.10 in /usr/local/lib/python3.11/dist-packages (from matplotlib->leafmap) (0.12.1)\n",
            "Requirement already satisfied: fonttools>=4.22.0 in /usr/local/lib/python3.11/dist-packages (from matplotlib->leafmap) (4.55.8)\n",
            "Requirement already satisfied: kiwisolver>=1.3.1 in /usr/local/lib/python3.11/dist-packages (from matplotlib->leafmap) (1.4.8)\n",
            "Requirement already satisfied: packaging>=20.0 in /usr/local/lib/python3.11/dist-packages (from matplotlib->leafmap) (24.2)\n",
            "Requirement already satisfied: pillow>=8 in /usr/local/lib/python3.11/dist-packages (from matplotlib->leafmap) (11.1.0)\n",
            "Requirement already satisfied: pyparsing>=2.3.1 in /usr/local/lib/python3.11/dist-packages (from matplotlib->leafmap) (3.2.1)\n",
            "Requirement already satisfied: tenacity>=6.2.0 in /usr/local/lib/python3.11/dist-packages (from plotly->leafmap) (9.0.0)\n",
            "Collecting pystac>=1.10.0 (from pystac[validation]>=1.10.0->pystac-client->leafmap)\n",
            "  Downloading pystac-1.12.1-py3-none-any.whl.metadata (4.6 kB)\n",
            "Requirement already satisfied: ipytree in /usr/local/lib/python3.11/dist-packages (from whiteboxgui->leafmap) (0.2.2)\n",
            "Collecting whitebox (from whiteboxgui->leafmap)\n",
            "  Downloading whitebox-2.3.5-py2.py3-none-any.whl.metadata (10 kB)\n",
            "Requirement already satisfied: jupyter-client in /usr/local/lib/python3.11/dist-packages (from ipykernel>=4.5.1->ipywidgets->leafmap) (6.1.12)\n",
            "Requirement already satisfied: tornado>=4.2 in /usr/local/lib/python3.11/dist-packages (from ipykernel>=4.5.1->ipywidgets->leafmap) (6.4.2)\n",
            "Requirement already satisfied: setuptools>=18.5 in /usr/local/lib/python3.11/dist-packages (from ipython>=4.0.0->ipywidgets->leafmap) (75.1.0)\n",
            "Collecting jedi>=0.16 (from ipython>=4.0.0->ipywidgets->leafmap)\n",
            "  Downloading jedi-0.19.2-py2.py3-none-any.whl.metadata (22 kB)\n",
            "Requirement already satisfied: decorator in /usr/local/lib/python3.11/dist-packages (from ipython>=4.0.0->ipywidgets->leafmap) (4.4.2)\n",
            "Requirement already satisfied: pickleshare in /usr/local/lib/python3.11/dist-packages (from ipython>=4.0.0->ipywidgets->leafmap) (0.7.5)\n",
            "Requirement already satisfied: prompt-toolkit!=3.0.0,!=3.0.1,<3.1.0,>=2.0.0 in /usr/local/lib/python3.11/dist-packages (from ipython>=4.0.0->ipywidgets->leafmap) (3.0.50)\n",
            "Requirement already satisfied: pygments in /usr/local/lib/python3.11/dist-packages (from ipython>=4.0.0->ipywidgets->leafmap) (2.18.0)\n",
            "Requirement already satisfied: backcall in /usr/local/lib/python3.11/dist-packages (from ipython>=4.0.0->ipywidgets->leafmap) (0.2.0)\n",
            "Requirement already satisfied: matplotlib-inline in /usr/local/lib/python3.11/dist-packages (from ipython>=4.0.0->ipywidgets->leafmap) (0.1.7)\n",
            "Requirement already satisfied: pexpect>4.3 in /usr/local/lib/python3.11/dist-packages (from ipython>=4.0.0->ipywidgets->leafmap) (4.9.0)\n",
            "Requirement already satisfied: MarkupSafe>=2.0 in /usr/local/lib/python3.11/dist-packages (from jinja2>=2.9->folium->leafmap) (3.0.2)\n",
            "Requirement already satisfied: jsonschema~=4.18 in /usr/local/lib/python3.11/dist-packages (from pystac[validation]>=1.10.0->pystac-client->leafmap) (4.23.0)\n",
            "Requirement already satisfied: six>=1.5 in /usr/local/lib/python3.11/dist-packages (from python-dateutil>=2.8.2->pandas->leafmap) (1.17.0)\n",
            "Requirement already satisfied: charset-normalizer<4,>=2 in /usr/local/lib/python3.11/dist-packages (from requests->folium->leafmap) (3.4.1)\n",
            "Requirement already satisfied: idna<4,>=2.5 in /usr/local/lib/python3.11/dist-packages (from requests->folium->leafmap) (3.10)\n",
            "Requirement already satisfied: urllib3<3,>=1.21.1 in /usr/local/lib/python3.11/dist-packages (from requests->folium->leafmap) (2.3.0)\n",
            "Requirement already satisfied: notebook>=4.4.1 in /usr/local/lib/python3.11/dist-packages (from widgetsnbextension~=3.6.0->ipywidgets->leafmap) (6.5.5)\n",
            "Requirement already satisfied: soupsieve>1.2 in /usr/local/lib/python3.11/dist-packages (from beautifulsoup4->gdown->leafmap) (2.6)\n",
            "Requirement already satisfied: PySocks!=1.5.7,>=1.5.6 in /usr/local/lib/python3.11/dist-packages (from requests[socks]->gdown->leafmap) (1.7.1)\n",
            "Requirement already satisfied: Click>=6.0 in /usr/local/lib/python3.11/dist-packages (from whitebox->whiteboxgui->leafmap) (8.1.8)\n",
            "Requirement already satisfied: parso<0.9.0,>=0.8.4 in /usr/local/lib/python3.11/dist-packages (from jedi>=0.16->ipython>=4.0.0->ipywidgets->leafmap) (0.8.4)\n",
            "Requirement already satisfied: attrs>=22.2.0 in /usr/local/lib/python3.11/dist-packages (from jsonschema~=4.18->pystac[validation]>=1.10.0->pystac-client->leafmap) (25.1.0)\n",
            "Requirement already satisfied: jsonschema-specifications>=2023.03.6 in /usr/local/lib/python3.11/dist-packages (from jsonschema~=4.18->pystac[validation]>=1.10.0->pystac-client->leafmap) (2024.10.1)\n",
            "Requirement already satisfied: referencing>=0.28.4 in /usr/local/lib/python3.11/dist-packages (from jsonschema~=4.18->pystac[validation]>=1.10.0->pystac-client->leafmap) (0.36.2)\n",
            "Requirement already satisfied: rpds-py>=0.7.1 in /usr/local/lib/python3.11/dist-packages (from jsonschema~=4.18->pystac[validation]>=1.10.0->pystac-client->leafmap) (0.22.3)\n",
            "Requirement already satisfied: pyzmq<25,>=17 in /usr/local/lib/python3.11/dist-packages (from notebook>=4.4.1->widgetsnbextension~=3.6.0->ipywidgets->leafmap) (24.0.1)\n",
            "Requirement already satisfied: argon2-cffi in /usr/local/lib/python3.11/dist-packages (from notebook>=4.4.1->widgetsnbextension~=3.6.0->ipywidgets->leafmap) (23.1.0)\n",
            "Requirement already satisfied: jupyter-core>=4.6.1 in /usr/local/lib/python3.11/dist-packages (from notebook>=4.4.1->widgetsnbextension~=3.6.0->ipywidgets->leafmap) (5.7.2)\n",
            "Requirement already satisfied: nbformat in /usr/local/lib/python3.11/dist-packages (from notebook>=4.4.1->widgetsnbextension~=3.6.0->ipywidgets->leafmap) (5.10.4)\n",
            "Requirement already satisfied: nbconvert>=5 in /usr/local/lib/python3.11/dist-packages (from notebook>=4.4.1->widgetsnbextension~=3.6.0->ipywidgets->leafmap) (7.16.6)\n",
            "Requirement already satisfied: nest-asyncio>=1.5 in /usr/local/lib/python3.11/dist-packages (from notebook>=4.4.1->widgetsnbextension~=3.6.0->ipywidgets->leafmap) (1.6.0)\n",
            "Requirement already satisfied: Send2Trash>=1.8.0 in /usr/local/lib/python3.11/dist-packages (from notebook>=4.4.1->widgetsnbextension~=3.6.0->ipywidgets->leafmap) (1.8.3)\n",
            "Requirement already satisfied: terminado>=0.8.3 in /usr/local/lib/python3.11/dist-packages (from notebook>=4.4.1->widgetsnbextension~=3.6.0->ipywidgets->leafmap) (0.18.1)\n",
            "Requirement already satisfied: prometheus-client in /usr/local/lib/python3.11/dist-packages (from notebook>=4.4.1->widgetsnbextension~=3.6.0->ipywidgets->leafmap) (0.21.1)\n",
            "Requirement already satisfied: nbclassic>=0.4.7 in /usr/local/lib/python3.11/dist-packages (from notebook>=4.4.1->widgetsnbextension~=3.6.0->ipywidgets->leafmap) (1.2.0)\n",
            "Requirement already satisfied: ptyprocess>=0.5 in /usr/local/lib/python3.11/dist-packages (from pexpect>4.3->ipython>=4.0.0->ipywidgets->leafmap) (0.7.0)\n",
            "Requirement already satisfied: wcwidth in /usr/local/lib/python3.11/dist-packages (from prompt-toolkit!=3.0.0,!=3.0.1,<3.1.0,>=2.0.0->ipython>=4.0.0->ipywidgets->leafmap) (0.2.13)\n",
            "Requirement already satisfied: platformdirs>=2.5 in /usr/local/lib/python3.11/dist-packages (from jupyter-core>=4.6.1->notebook>=4.4.1->widgetsnbextension~=3.6.0->ipywidgets->leafmap) (4.3.6)\n",
            "Requirement already satisfied: notebook-shim>=0.2.3 in /usr/local/lib/python3.11/dist-packages (from nbclassic>=0.4.7->notebook>=4.4.1->widgetsnbextension~=3.6.0->ipywidgets->leafmap) (0.2.4)\n",
            "Requirement already satisfied: bleach!=5.0.0 in /usr/local/lib/python3.11/dist-packages (from bleach[css]!=5.0.0->nbconvert>=5->notebook>=4.4.1->widgetsnbextension~=3.6.0->ipywidgets->leafmap) (6.2.0)\n",
            "Requirement already satisfied: defusedxml in /usr/local/lib/python3.11/dist-packages (from nbconvert>=5->notebook>=4.4.1->widgetsnbextension~=3.6.0->ipywidgets->leafmap) (0.7.1)\n",
            "Requirement already satisfied: jupyterlab-pygments in /usr/local/lib/python3.11/dist-packages (from nbconvert>=5->notebook>=4.4.1->widgetsnbextension~=3.6.0->ipywidgets->leafmap) (0.3.0)\n",
            "Requirement already satisfied: mistune<4,>=2.0.3 in /usr/local/lib/python3.11/dist-packages (from nbconvert>=5->notebook>=4.4.1->widgetsnbextension~=3.6.0->ipywidgets->leafmap) (3.1.1)\n",
            "Requirement already satisfied: nbclient>=0.5.0 in /usr/local/lib/python3.11/dist-packages (from nbconvert>=5->notebook>=4.4.1->widgetsnbextension~=3.6.0->ipywidgets->leafmap) (0.10.2)\n",
            "Requirement already satisfied: pandocfilters>=1.4.1 in /usr/local/lib/python3.11/dist-packages (from nbconvert>=5->notebook>=4.4.1->widgetsnbextension~=3.6.0->ipywidgets->leafmap) (1.5.1)\n",
            "Requirement already satisfied: fastjsonschema>=2.15 in /usr/local/lib/python3.11/dist-packages (from nbformat->notebook>=4.4.1->widgetsnbextension~=3.6.0->ipywidgets->leafmap) (2.21.1)\n",
            "Requirement already satisfied: argon2-cffi-bindings in /usr/local/lib/python3.11/dist-packages (from argon2-cffi->notebook>=4.4.1->widgetsnbextension~=3.6.0->ipywidgets->leafmap) (21.2.0)\n",
            "Requirement already satisfied: webencodings in /usr/local/lib/python3.11/dist-packages (from bleach!=5.0.0->bleach[css]!=5.0.0->nbconvert>=5->notebook>=4.4.1->widgetsnbextension~=3.6.0->ipywidgets->leafmap) (0.5.1)\n",
            "Requirement already satisfied: tinycss2<1.5,>=1.1.0 in /usr/local/lib/python3.11/dist-packages (from bleach[css]!=5.0.0->nbconvert>=5->notebook>=4.4.1->widgetsnbextension~=3.6.0->ipywidgets->leafmap) (1.4.0)\n",
            "Requirement already satisfied: jupyter-server<3,>=1.8 in /usr/local/lib/python3.11/dist-packages (from notebook-shim>=0.2.3->nbclassic>=0.4.7->notebook>=4.4.1->widgetsnbextension~=3.6.0->ipywidgets->leafmap) (1.24.0)\n",
            "Requirement already satisfied: cffi>=1.0.1 in /usr/local/lib/python3.11/dist-packages (from argon2-cffi-bindings->argon2-cffi->notebook>=4.4.1->widgetsnbextension~=3.6.0->ipywidgets->leafmap) (1.17.1)\n",
            "Requirement already satisfied: pycparser in /usr/local/lib/python3.11/dist-packages (from cffi>=1.0.1->argon2-cffi-bindings->argon2-cffi->notebook>=4.4.1->widgetsnbextension~=3.6.0->ipywidgets->leafmap) (2.22)\n",
            "Requirement already satisfied: anyio<4,>=3.1.0 in /usr/local/lib/python3.11/dist-packages (from jupyter-server<3,>=1.8->notebook-shim>=0.2.3->nbclassic>=0.4.7->notebook>=4.4.1->widgetsnbextension~=3.6.0->ipywidgets->leafmap) (3.7.1)\n",
            "Requirement already satisfied: websocket-client in /usr/local/lib/python3.11/dist-packages (from jupyter-server<3,>=1.8->notebook-shim>=0.2.3->nbclassic>=0.4.7->notebook>=4.4.1->widgetsnbextension~=3.6.0->ipywidgets->leafmap) (1.8.0)\n",
            "Requirement already satisfied: sniffio>=1.1 in /usr/local/lib/python3.11/dist-packages (from anyio<4,>=3.1.0->jupyter-server<3,>=1.8->notebook-shim>=0.2.3->nbclassic>=0.4.7->notebook>=4.4.1->widgetsnbextension~=3.6.0->ipywidgets->leafmap) (1.3.1)\n",
            "Downloading leafmap-0.42.9-py2.py3-none-any.whl (515 kB)\n",
            "\u001b[2K   \u001b[90m━━━━━━━━━━━━━━━━━━━━━━━━━━━━━━━━━━━━━━━━\u001b[0m \u001b[32m515.2/515.2 kB\u001b[0m \u001b[31m17.7 MB/s\u001b[0m eta \u001b[36m0:00:00\u001b[0m\n",
            "\u001b[?25hDownloading lonboard-0.10.4-py3-none-any.whl (884 kB)\n",
            "\u001b[2K   \u001b[90m━━━━━━━━━━━━━━━━━━━━━━━━━━━━━━━━━━━━━━━━\u001b[0m \u001b[32m884.1/884.1 kB\u001b[0m \u001b[31m41.6 MB/s\u001b[0m eta \u001b[36m0:00:00\u001b[0m\n",
            "\u001b[?25hDownloading anywidget-0.9.13-py3-none-any.whl (213 kB)\n",
            "\u001b[2K   \u001b[90m━━━━━━━━━━━━━━━━━━━━━━━━━━━━━━━━━━━━━━━━\u001b[0m \u001b[32m213.7/213.7 kB\u001b[0m \u001b[31m16.6 MB/s\u001b[0m eta \u001b[36m0:00:00\u001b[0m\n",
            "\u001b[?25hDownloading arro3_compute-0.4.5-cp311-cp311-manylinux_2_17_x86_64.manylinux2014_x86_64.whl (2.7 MB)\n",
            "\u001b[2K   \u001b[90m━━━━━━━━━━━━━━━━━━━━━━━━━━━━━━━━━━━━━━━━\u001b[0m \u001b[32m2.7/2.7 MB\u001b[0m \u001b[31m49.4 MB/s\u001b[0m eta \u001b[36m0:00:00\u001b[0m\n",
            "\u001b[?25hDownloading arro3_core-0.4.5-cp311-cp311-manylinux_2_17_x86_64.manylinux2014_x86_64.whl (2.5 MB)\n",
            "\u001b[2K   \u001b[90m━━━━━━━━━━━━━━━━━━━━━━━━━━━━━━━━━━━━━━━━\u001b[0m \u001b[32m2.5/2.5 MB\u001b[0m \u001b[31m58.3 MB/s\u001b[0m eta \u001b[36m0:00:00\u001b[0m\n",
            "\u001b[?25hDownloading arro3_io-0.4.5-cp311-cp311-manylinux_2_17_x86_64.manylinux2014_x86_64.whl (7.5 MB)\n",
            "\u001b[2K   \u001b[90m━━━━━━━━━━━━━━━━━━━━━━━━━━━━━━━━━━━━━━━━\u001b[0m \u001b[32m7.5/7.5 MB\u001b[0m \u001b[31m55.6 MB/s\u001b[0m eta \u001b[36m0:00:00\u001b[0m\n",
            "\u001b[?25hDownloading geojson-3.2.0-py3-none-any.whl (15 kB)\n",
            "Downloading ipyvuetify-1.10.0-py2.py3-none-any.whl (6.1 MB)\n",
            "\u001b[2K   \u001b[90m━━━━━━━━━━━━━━━━━━━━━━━━━━━━━━━━━━━━━━━━\u001b[0m \u001b[32m6.1/6.1 MB\u001b[0m \u001b[31m63.9 MB/s\u001b[0m eta \u001b[36m0:00:00\u001b[0m\n",
            "\u001b[?25hDownloading pystac_client-0.8.5-py3-none-any.whl (41 kB)\n",
            "\u001b[2K   \u001b[90m━━━━━━━━━━━━━━━━━━━━━━━━━━━━━━━━━━━━━━━━\u001b[0m \u001b[32m41.9/41.9 kB\u001b[0m \u001b[31m2.8 MB/s\u001b[0m eta \u001b[36m0:00:00\u001b[0m\n",
            "\u001b[?25hDownloading whiteboxgui-2.3.0-py2.py3-none-any.whl (108 kB)\n",
            "\u001b[2K   \u001b[90m━━━━━━━━━━━━━━━━━━━━━━━━━━━━━━━━━━━━━━━━\u001b[0m \u001b[32m108.6/108.6 kB\u001b[0m \u001b[31m8.8 MB/s\u001b[0m eta \u001b[36m0:00:00\u001b[0m\n",
            "\u001b[?25hDownloading ipyvue-1.11.2-py2.py3-none-any.whl (2.7 MB)\n",
            "\u001b[2K   \u001b[90m━━━━━━━━━━━━━━━━━━━━━━━━━━━━━━━━━━━━━━━━\u001b[0m \u001b[32m2.7/2.7 MB\u001b[0m \u001b[31m60.7 MB/s\u001b[0m eta \u001b[36m0:00:00\u001b[0m\n",
            "\u001b[?25hDownloading psygnal-0.12.0-cp311-cp311-manylinux_2_17_x86_64.manylinux2014_x86_64.whl (765 kB)\n",
            "\u001b[2K   \u001b[90m━━━━━━━━━━━━━━━━━━━━━━━━━━━━━━━━━━━━━━━━\u001b[0m \u001b[32m765.5/765.5 kB\u001b[0m \u001b[31m39.4 MB/s\u001b[0m eta \u001b[36m0:00:00\u001b[0m\n",
            "\u001b[?25hDownloading pystac-1.12.1-py3-none-any.whl (194 kB)\n",
            "\u001b[2K   \u001b[90m━━━━━━━━━━━━━━━━━━━━━━━━━━━━━━━━━━━━━━━━\u001b[0m \u001b[32m194.2/194.2 kB\u001b[0m \u001b[31m14.6 MB/s\u001b[0m eta \u001b[36m0:00:00\u001b[0m\n",
            "\u001b[?25hDownloading whitebox-2.3.5-py2.py3-none-any.whl (72 kB)\n",
            "\u001b[2K   \u001b[90m━━━━━━━━━━━━━━━━━━━━━━━━━━━━━━━━━━━━━━━━\u001b[0m \u001b[32m72.4/72.4 kB\u001b[0m \u001b[31m5.9 MB/s\u001b[0m eta \u001b[36m0:00:00\u001b[0m\n",
            "\u001b[?25hDownloading jedi-0.19.2-py2.py3-none-any.whl (1.6 MB)\n",
            "\u001b[2K   \u001b[90m━━━━━━━━━━━━━━━━━━━━━━━━━━━━━━━━━━━━━━━━\u001b[0m \u001b[32m1.6/1.6 MB\u001b[0m \u001b[31m49.7 MB/s\u001b[0m eta \u001b[36m0:00:00\u001b[0m\n",
            "\u001b[?25hInstalling collected packages: whitebox, psygnal, jedi, geojson, arro3-core, pystac, arro3-io, arro3-compute, pystac-client, ipyvue, anywidget, whiteboxgui, lonboard, ipyvuetify, leafmap\n",
            "Successfully installed anywidget-0.9.13 arro3-compute-0.4.5 arro3-core-0.4.5 arro3-io-0.4.5 geojson-3.2.0 ipyvue-1.11.2 ipyvuetify-1.10.0 jedi-0.19.2 leafmap-0.42.9 lonboard-0.10.4 psygnal-0.12.0 pystac-1.12.1 pystac-client-0.8.5 whitebox-2.3.5 whiteboxgui-2.3.0\n"
          ]
        }
      ],
      "source": [
        "%pip install duckdb leafmap lonboard\n",
        "import duckdb\n",
        "import leafmap"
      ]
    },
    {
      "cell_type": "markdown",
      "metadata": {
        "id": "kPHpL_JUWCWa"
      },
      "source": [
        "Download the [nyc_data.zip](https://github.com/opengeos/data/raw/main/duckdb/nyc_data.zip) dataset using leafmap. The zip file contains the following datasets. Create a new DuckDB database and import the datasets into the database. Each dataset should be imported into a separate table.\n",
        "\n",
        "- nyc_census_blocks\n",
        "- nyc_homicides\n",
        "- nyc_neighborhoods\n",
        "- nyc_streets\n",
        "- nyc_subway_stations"
      ]
    },
    {
      "cell_type": "code",
      "source": [
        "url = \"https://open.gishub.org/data/duckdb/nyc_data.db.zip\"\n",
        "leafmap.download_file(url, unzip=True)\n",
        "con = duckdb.connect(\"nyc_data.db\")\n",
        "con.install_extension(\"spatial\")\n",
        "con.load_extension(\"spatial\")\n",
        "con.sql(\"SHOW TABLES;\")"
      ],
      "metadata": {
        "id": "nX6fJdeIWSjB",
        "outputId": "209b6c23-9b1f-4963-c2fb-174684656ec6",
        "colab": {
          "base_uri": "https://localhost:8080/"
        }
      },
      "execution_count": 2,
      "outputs": [
        {
          "output_type": "stream",
          "name": "stderr",
          "text": [
            "Downloading...\n",
            "From: https://open.gishub.org/data/duckdb/nyc_data.db.zip\n",
            "To: /content/nyc_data.db.zip\n",
            "100%|██████████| 8.60M/8.60M [00:00<00:00, 235MB/s]\n"
          ]
        },
        {
          "output_type": "stream",
          "name": "stdout",
          "text": [
            "Extracting files...\n"
          ]
        },
        {
          "output_type": "execute_result",
          "data": {
            "text/plain": [
              "┌─────────────────────┐\n",
              "│        name         │\n",
              "│       varchar       │\n",
              "├─────────────────────┤\n",
              "│ nyc_census_blocks   │\n",
              "│ nyc_homicides       │\n",
              "│ nyc_neighborhoods   │\n",
              "│ nyc_streets         │\n",
              "│ nyc_subway_stations │\n",
              "└─────────────────────┘"
            ]
          },
          "metadata": {},
          "execution_count": 2
        }
      ]
    },
    {
      "cell_type": "code",
      "source": [
        "con.sql(\"\"\"\n",
        "SELECT * FROM 'nyc_subway_stations';\n",
        "\"\"\")"
      ],
      "metadata": {
        "id": "ypvb4NbdfxDq",
        "outputId": "89bb1c60-cb8a-4e4a-bcab-e8e8fa3b675c",
        "colab": {
          "base_uri": "https://localhost:8080/"
        }
      },
      "execution_count": 9,
      "outputs": [
        {
          "output_type": "execute_result",
          "data": {
            "text/plain": [
              "┌──────────┬────────┬───────────────────┬─────────────────┬─────────────────┬─────────────────────────────────────────┬───────────────────────────────────┬───────────┬─────────┬─────────┬───────────┬──────────────┬─────────┬─────────┬──────────────────────────────────────────────┐\n",
              "│ OBJECTID │   ID   │       NAME        │    ALT_NAME     │    CROSS_ST     │                LONG_NAME                │               LABEL               │  BOROUGH  │ NGHBHD  │ ROUTES  │ TRANSFERS │    COLOR     │ EXPRESS │ CLOSED  │                     geom                     │\n",
              "│  double  │ double │      varchar      │     varchar     │     varchar     │                 varchar                 │              varchar              │  varchar  │ varchar │ varchar │  varchar  │   varchar    │ varchar │ varchar │                   geometry                   │\n",
              "├──────────┼────────┼───────────────────┼─────────────────┼─────────────────┼─────────────────────────────────────────┼───────────────────────────────────┼───────────┼─────────┼─────────┼───────────┼──────────────┼─────────┼─────────┼──────────────────────────────────────────────┤\n",
              "│      1.0 │  376.0 │ Cortlandt St      │ NULL            │ Church St       │ Cortlandt St (R,W) Manhattan            │ Cortlandt St (R,W)                │ Manhattan │ NULL    │ R,W     │ R,W       │ YELLOW       │ NULL    │ NULL    │ POINT (583521.854408956 4507077.862599085)   │\n",
              "│      2.0 │    2.0 │ Rector St         │ NULL            │ NULL            │ Rector St (1) Manhattan                 │ Rector St (1)                     │ Manhattan │ NULL    │ 1       │ 1         │ RED          │ NULL    │ NULL    │ POINT (583324.4866324601 4506805.373160211)  │\n",
              "│      3.0 │    1.0 │ South Ferry       │ NULL            │ NULL            │ South Ferry (1) Manhattan               │ South Ferry (1)                   │ Manhattan │ NULL    │ 1       │ 1         │ RED          │ NULL    │ NULL    │ POINT (583304.1823994748 4506069.654048115)  │\n",
              "│      4.0 │  125.0 │ 138th St          │ Grand Concourse │ Grand Concourse │ 138th St / Grand Concourse (4,5) Bronx  │ 138th St / Grand Concourse (4,5)  │ Bronx     │ NULL    │ 4,5     │ 4,5       │ GREEN        │ NULL    │ NULL    │ POINT (590250.10594797 4518558.019924332)    │\n",
              "│      5.0 │  126.0 │ 149th St          │ Grand Concourse │ Grand Concourse │ 149th St / Grand Concourse (4) Bronx    │ 149th St / Grand Concourse (4)    │ Bronx     │ NULL    │ 4       │ 2,4,5     │ GREEN        │ express │ NULL    │ POINT (590454.7399891173 4519145.719617855)  │\n",
              "│      6.0 │   45.0 │ 149th St          │ Grand Concourse │ Grand Concourse │ 149th St / Grand Concourse (2,5) Bronx  │ 149th St / Grand Concourse (2,5)  │ Bronx     │ NULL    │ 2,5     │ 2,4,5     │ RED-GREEN    │ express │ NULL    │ POINT (590465.8934191109 4519168.697483203)  │\n",
              "│      7.0 │  127.0 │ 161st St          │ Yankee Stadium  │ River Ave       │ 161st St / Yankee Stadium (B,D,4) Bronx │ 161st St / Yankee Stadium (B,D,4) │ Bronx     │ NULL    │ B,D,4   │ B,D,4     │ GREEN-ORANGE │ NULL    │ NULL    │ POINT (590573.169495527 4520214.766177284)   │\n",
              "│      8.0 │  208.0 │ 167th St          │ NULL            │ Grand Concourse │ 167th St (B,D) Bronx                    │ 167th St (B,D)                    │ Bronx     │ NULL    │ B,D     │ B,D       │ ORANGE       │ NULL    │ NULL    │ POINT (591252.8314104103 4520950.353355553)  │\n",
              "│      9.0 │  128.0 │ 167th St          │ NULL            │ River Ave       │ 167th St (4) Bronx                      │ 167th St (4)                      │ Bronx     │ NULL    │ 4       │ 4         │ GREEN        │ NULL    │ NULL    │ POINT (590946.3972262995 4521077.318976877)  │\n",
              "│     10.0 │  209.0 │ 170th St          │ NULL            │ Grand Concourse │ 170th St (B,D) Bronx                    │ 170th St (B,D)                    │ Bronx     │ NULL    │ B,D     │ B,D       │ ORANGE       │ NULL    │ NULL    │ POINT (591583.6111452815 4521434.846626811)  │\n",
              "│       ·  │    ·   │    ·              │  ·              │  ·              │          ·                              │       ·                           │   ·       │  ·      │  ·      │  ·        │   ·          │  ·      │  ·      │                      ·                       │\n",
              "│       ·  │    ·   │    ·              │  ·              │  ·              │          ·                              │       ·                           │   ·       │  ·      │  ·      │  ·        │   ·          │  ·      │  ·      │                      ·                       │\n",
              "│       ·  │    ·   │    ·              │  ·              │  ·              │          ·                              │       ·                           │   ·       │  ·      │  ·      │  ·        │   ·          │  ·      │  ·      │                      ·                       │\n",
              "│    482.0 │  904.0 │ JFK Terminal 1    │ NULL            │ NULL            │ JFK Terminal 1, Queens                  │ JFK Terminal 1                    │ Queens    │ NULL    │ NULL    │ NULL      │ AIR-BLUE     │ NULL    │ NULL    │ POINT (602356.9561669775 4499829.669655836)  │\n",
              "│    483.0 │  905.0 │ JFK Terminal 2-3  │ NULL            │ NULL            │ JFK Terminal 2-3, Queens                │ JFK Terminal 2-3                  │ Queens    │ NULL    │ NULL    │ NULL      │ AIR-BLUE     │ NULL    │ NULL    │ POINT (602526.112504933 4499699.646828213)   │\n",
              "│    484.0 │  906.0 │ JFK Terminal 4    │ NULL            │ NULL            │ JFK Terminal 4, Queens                  │ JFK Terminal 4                    │ Queens    │ NULL    │ NULL    │ NULL      │ AIR-BLUE     │ NULL    │ NULL    │ POINT (602985.6731458901 4499897.286220534)  │\n",
              "│    485.0 │  907.0 │ JFK Terminal 5-6  │ NULL            │ NULL            │ JFK Terminal 5-6, Queens                │ JFK Terminal 5-6                  │ Queens    │ NULL    │ NULL    │ NULL      │ AIR-BLUE     │ NULL    │ NULL    │ POINT (603245.7503829238 4500232.851042057)  │\n",
              "│    486.0 │  908.0 │ JFK Terminal 7    │ NULL            │ NULL            │ JFK Terminal 7, Queens                  │ JFK Terminal 7                    │ Queens    │ NULL    │ NULL    │ NULL      │ AIR-BLUE     │ NULL    │ NULL    │ POINT (602880.326628096 4500459.602709553)   │\n",
              "│    487.0 │  909.0 │ JFK Terminal 8    │ NULL            │ NULL            │ JFK Terminal 8, Queens                  │ JFK Terminal 8                    │ Queens    │ NULL    │ NULL    │ NULL      │ AIR-BLUE     │ NULL    │ NULL    │ POINT (602433.3533596311 4500363.8128236225) │\n",
              "│    488.0 │  903.0 │ Federal Circle    │ Rental Car      │ NULL            │ Federal Circle / Rental Car, Queens     │ Federal Circle / Rental Car       │ Queens    │ NULL    │ NULL    │ NULL      │ AIR-BLUE     │ NULL    │ NULL    │ POINT (600903.1428474564 4501689.113908147)  │\n",
              "│    489.0 │  902.0 │ Long Term Parking │ NULL            │ NULL            │ Long Term Parking, Queens               │ Long Term Parking                 │ Queens    │ NULL    │ NULL    │ NULL      │ AIR-BLUE     │ NULL    │ NULL    │ POINT (599552.1129832724 4502056.229470152)  │\n",
              "│    490.0 │  901.0 │ Howard Beach      │ NULL            │ 159th Ave       │ Howard Beach, Queens                    │ Howard Beach                      │ Queens    │ NULL    │ NULL    │ A         │ AIR-BLUE     │ NULL    │ NULL    │ POINT (598862.0205107569 4501868.071868393)  │\n",
              "│    491.0 │  900.0 │ Jamaica           │ Sutphin Blvd    │ Sutphin Blvd    │ Jamaica / Sutphin Blvd, Queens          │ Jamaica / Sutphin Blvd            │ Queens    │ NULL    │ NULL    │ E,J,Z     │ AIR-BLUE     │ NULL    │ NULL    │ POINT (600689.9370847167 4506179.234498333)  │\n",
              "├──────────┴────────┴───────────────────┴─────────────────┴─────────────────┴─────────────────────────────────────────┴───────────────────────────────────┴───────────┴─────────┴─────────┴───────────┴──────────────┴─────────┴─────────┴──────────────────────────────────────────────┤\n",
              "│ 491 rows (20 shown)                                                                                                                                                                                                                                                        15 columns │\n",
              "└───────────────────────────────────────────────────────────────────────────────────────────────────────────────────────────────────────────────────────────────────────────────────────────────────────────────────────────────────────────────────────────────────────────────────────┘"
            ]
          },
          "metadata": {},
          "execution_count": 9
        }
      ]
    },
    {
      "cell_type": "code",
      "source": [
        "con.sql(\"\"\"\n",
        "SELECT * FROM 'nyc_neighborhoods' WHERE NAME='Little Italy';\n",
        "\"\"\")"
      ],
      "metadata": {
        "id": "jjJBze9ohSJo",
        "outputId": "527b59ee-2080-44bf-e99d-724ad26010ac",
        "colab": {
          "base_uri": "https://localhost:8080/"
        }
      },
      "execution_count": 11,
      "outputs": [
        {
          "output_type": "execute_result",
          "data": {
            "text/plain": [
              "┌───────────┬──────────────┬─────────────────────────────────────────────────────────────────────────────────────────────────────────────────────────────────────────────────────────────────────────────────────────────────────────────────────────────────────────────────────────────────────────────────────┐\n",
              "│ BORONAME  │     NAME     │                                                                                                                                        geom                                                                                                                                         │\n",
              "│  varchar  │   varchar    │                                                                                                                                      geometry                                                                                                                                       │\n",
              "├───────────┼──────────────┼─────────────────────────────────────────────────────────────────────────────────────────────────────────────────────────────────────────────────────────────────────────────────────────────────────────────────────────────────────────────────────────────────────────────────────┤\n",
              "│ Manhattan │ Little Italy │ MULTIPOLYGON (((584702.6384288241 4508472.988402647, 584753.2898389809 4508623.442748283, 584841.1228157798 4508772.112277565, 585076.2227265466 4508672.661297781, 584852.6014370956 4507903.87643929, 584445.8329161498 4508079.830368118, 584702.6384288241 4508472.988402647))) │\n",
              "└───────────┴──────────────┴─────────────────────────────────────────────────────────────────────────────────────────────────────────────────────────────────────────────────────────────────────────────────────────────────────────────────────────────────────────────────────────────────────────────────────┘"
            ]
          },
          "metadata": {},
          "execution_count": 11
        }
      ]
    },
    {
      "cell_type": "markdown",
      "metadata": {
        "id": "kcgaYq24WCWc"
      },
      "source": [
        "1. **What subway station is in \\'Little Italy\\'? What subway route is it on?**"
      ]
    },
    {
      "cell_type": "code",
      "execution_count": 3,
      "metadata": {
        "id": "H50qw-dKWCWc",
        "outputId": "1b39e0b7-8652-48fd-9e76-ed2054b7777c",
        "colab": {
          "base_uri": "https://localhost:8080/"
        }
      },
      "outputs": [
        {
          "output_type": "execute_result",
          "data": {
            "text/plain": [
              "┌────────────────┬─────────┐\n",
              "│ subway_station │ ROUTES  │\n",
              "│    varchar     │ varchar │\n",
              "├────────────────┼─────────┤\n",
              "│ Spring St      │ 6       │\n",
              "└────────────────┴─────────┘"
            ]
          },
          "metadata": {},
          "execution_count": 3
        }
      ],
      "source": [
        "con.sql(\"\"\"\n",
        "SELECT s.name AS subway_station, s.routes\n",
        "FROM nyc_subway_stations s\n",
        "JOIN nyc_neighborhoods n\n",
        "ON ST_Contains(n.geom, s.geom)\n",
        "WHERE n.name = 'Little Italy';\n",
        "\"\"\")"
      ]
    },
    {
      "cell_type": "markdown",
      "metadata": {
        "id": "9vJ0OhgSWCWd"
      },
      "source": [
        "2. **What are all the neighborhoods served by the 6-train?** (Hint: The `routes` column in the `nyc_subway_stations` table has values like \\'B,D,6,V\\' and \\'C,6\\')\n"
      ]
    },
    {
      "cell_type": "code",
      "execution_count": 15,
      "metadata": {
        "id": "evzFzMbKWCWe",
        "outputId": "79018e1f-97a6-4b93-a447-650a28df7134",
        "colab": {
          "base_uri": "https://localhost:8080/"
        }
      },
      "outputs": [
        {
          "output_type": "execute_result",
          "data": {
            "text/plain": [
              "┌────────────────────┐\n",
              "│   neiborhoods_6    │\n",
              "│      varchar       │\n",
              "├────────────────────┤\n",
              "│ Chinatown          │\n",
              "│ Greenwich Village  │\n",
              "│ Murray Hill        │\n",
              "│ Midtown            │\n",
              "│ Upper East Side    │\n",
              "│ Yorkville          │\n",
              "│ Hunts Point        │\n",
              "│ South Bronx        │\n",
              "│ Soundview          │\n",
              "│ Parkchester        │\n",
              "│ Financial District │\n",
              "│ Little Italy       │\n",
              "│ Gramercy           │\n",
              "│ East Harlem        │\n",
              "│ Mott Haven         │\n",
              "├────────────────────┤\n",
              "│      15 rows       │\n",
              "└────────────────────┘"
            ]
          },
          "metadata": {},
          "execution_count": 15
        }
      ],
      "source": [
        "con.sql(\"\"\"\n",
        "SELECT DISTINCT n.name AS neiborhoods_6\n",
        "FROM nyc_subway_stations s\n",
        "JOIN nyc_neighborhoods n\n",
        "ON ST_Contains(n.geom, s.geom)\n",
        "WHERE s.routes LIKE '%6%';\n",
        "\"\"\")"
      ]
    },
    {
      "cell_type": "code",
      "source": [
        "con.sql(\"\"\"\n",
        "SELECT * FROM 'nyc_census_blocks';\n",
        "\"\"\")"
      ],
      "metadata": {
        "id": "ibbG1R04t8rW",
        "outputId": "d10e434b-7aac-435d-a4f5-99ba73dcf13f",
        "colab": {
          "base_uri": "https://localhost:8080/"
        }
      },
      "execution_count": 22,
      "outputs": [
        {
          "output_type": "execute_result",
          "data": {
            "text/plain": [
              "┌─────────────────┬────────────┬────────────┬────────────┬────────────┬────────────┬────────────┬───────────────┬────────────────────────────────────────────────────────────────────────────────────────────────────────────────────────────────────────────────────────────────────────────────────────────────────────────────────────────────────────────────────────────────────────────────────────────────────────────────────────────────────────────────────────────────────────────────────────────────────────────────────────────────────────────────────────────────────────────────────────────────────────────────────────────────────────────────────────────────────────────────────────────────────────────────────────────────────────────────────────────────────────────────────────────────────────────────────────────────────────────────────────────────────────────────────────────────────────────────────────────────────────────────────────────────────────────────────────────────────────────────────────────────────────────────────────────────────────────────────────────────────────────────────────────────────────────────────────────────────────────────────────────────────────────────────────────────────────────────────────────────────────────────────────────────────────────────────────────────────────────────────────────────────────────────────────────────────────────────────────────────────────────────────────────────────────────────────────────────────────────────────────────────────────────────────────────────────────────────┐\n",
              "│      BLKID      │ POPN_TOTAL │ POPN_WHITE │ POPN_BLACK │ POPN_NATIV │ POPN_ASIAN │ POPN_OTHER │   BORONAME    │                                                                                                                                                                                                                                                                                                                                                                                                                                                                                                                                                                                                                                                                                                                                      geom                                                                                                                                                                                                                                                                                                                                                                                                                                                                                                                                                                                                                                                                                                                                      │\n",
              "│     varchar     │   int32    │   int32    │   int32    │   int32    │   int32    │   int32    │    varchar    │                                                                                                                                                                                                                                                                                                                                                                                                                                                                                                                                                                                                                                                                                                                                    geometry                                                                                                                                                                                                                                                                                                                                                                                                                                                                                                                                                                                                                                                                                                                                    │\n",
              "├─────────────────┼────────────┼────────────┼────────────┼────────────┼────────────┼────────────┼───────────────┼────────────────────────────────────────────────────────────────────────────────────────────────────────────────────────────────────────────────────────────────────────────────────────────────────────────────────────────────────────────────────────────────────────────────────────────────────────────────────────────────────────────────────────────────────────────────────────────────────────────────────────────────────────────────────────────────────────────────────────────────────────────────────────────────────────────────────────────────────────────────────────────────────────────────────────────────────────────────────────────────────────────────────────────────────────────────────────────────────────────────────────────────────────────────────────────────────────────────────────────────────────────────────────────────────────────────────────────────────────────────────────────────────────────────────────────────────────────────────────────────────────────────────────────────────────────────────────────────────────────────────────────────────────────────────────────────────────────────────────────────────────────────────────────────────────────────────────────────────────────────────────────────────────────────────────────────────────────────────────────────────────────────────────────────────────────────────────────────────────────────────────────────────────────────────────────────────────────────┤\n",
              "│ 360850009001000 │         97 │         51 │         32 │          1 │          5 │          8 │ Staten Island │ MULTIPOLYGON (((577856.5470479821 4499583.234929237, 577862.6350194028 4499572.986942291, 577797.7431656285 4499531.836501671, 577738.664796277 4499627.642337196, 577720.2023628965 4499657.818370118, 577624.4382330556 4499647.118713528, 577613.2357513051 4499666.932090907, 577587.4900580458 4499715.230511688, 577763.9666999553 4499733.519348773, 577856.5470479821 4499583.234929237)))                                                                                                                                                                                                                                                                                                                                                                                                                                                                                                                                                                                                                                                                                                                                                                                                                                                                                                                                                                                                                                                                             │\n",
              "│ 360850020011000 │         66 │         52 │          2 │          0 │          7 │          5 │ Staten Island │ MULTIPOLYGON (((578620.7173632095 4495974.817866362, 578535.3576332723 4495915.809992479, 578524.626146389 4495908.449928109, 578475.1516588356 4495981.940162353, 578550.5382256601 4496033.2756218575, 578571.6880872999 4496047.752238923, 578620.7173632095 4495974.817866362)))                                                                                                                                                                                                                                                                                                                                                                                                                                                                                                                                                                                                                                                                                                                                                                                                                                                                                                                                                                                                                                                                                                                                                                                           │\n",
              "│ 360850040001000 │         62 │         14 │         18 │          2 │         25 │          3 │ Staten Island │ MULTIPOLYGON (((577227.2244709881 4495995.066845497, 577155.6250310685 4495899.946972164, 577077.1787859342 4495959.14840101, 577121.3799610958 4496049.833796346, 577131.0046544907 4496068.630318046, 577227.2244709881 4495995.066845497)))                                                                                                                                                                                                                                                                                                                                                                                                                                                                                                                                                                                                                                                                                                                                                                                                                                                                                                                                                                                                                                                                                                                                                                                                                                 │\n",
              "│ 360850074001000 │        137 │         92 │         12 │          0 │         13 │         20 │ Staten Island │ MULTIPOLYGON (((579037.0332016965 4494421.769816227, 579000.0152762784 4494400.8946105875, 578976.4815953767 4494387.765575125, 578908.801775808 4494521.2091746535, 578974.2487792528 4494550.841294147, 579004.0863603267 4494563.909898213, 579014.1554114621 4494528.832636419, 579023.0136663909 4494493.408570291, 579030.6435324465 4494457.699749923, 579037.0332016965 4494421.769816227)))                                                                                                                                                                                                                                                                                                                                                                                                                                                                                                                                                                                                                                                                                                                                                                                                                                                                                                                                                                                                                                                                           │\n",
              "│ 360850096011000 │        289 │        230 │          0 │          0 │         32 │         27 │ Staten Island │ MULTIPOLYGON (((577652.4825280879 4494975.052285533, 577681.9143370368 4494930.307676212, 577720.5586226447 4494862.963829213, 577727.3289497155 4494849.754381681, 577732.581515847 4494835.767709447, 577736.1983562167 4494821.271668449, 577738.1241678909 4494806.553481156, 577741.0522650707 4494783.424021987, 577619.6171554218 4494726.97852215, 577587.3559694993 4494795.137760404, 577440.4890988736 4494723.787243782, 577407.4433355835 4494794.037897717, 577398.6917565296 4494812.944467689, 577450.8955504326 4494959.7947593825, 577471.4243214849 4494965.581638442, 577506.8288100478 4494890.028127626, 577536.1900156969 4494904.272123218, 577512.836425658 4494971.905691302, 577599.3220771316 4494978.181154193, 577652.4825280879 4494975.052285533)))                                                                                                                                                                                                                                                                                                                                                                                                                                                                                                                                                                                                                                                                                            │\n",
              "│ 360850112011000 │         83 │         63 │          0 │          0 │         18 │          2 │ Staten Island │ MULTIPOLYGON (((577305.0606213677 4492950.1205372885, 577301.2972957928 4492944.603255557, 577281.6853667679 4492915.846983125, 577260.9972937243 4492873.659282748, 577086.2399955298 4492993.263227337, 577133.0934718297 4493058.110367223, 577138.4349902926 4493065.504115443, 577305.0606213677 4492950.1205372885)))                                                                                                                                                                                                                                                                                                                                                                                                                                                                                                                                                                                                                                                                                                                                                                                                                                                                                                                                                                                                                                                                                                                                                    │\n",
              "│ 360850128041000 │        180 │        103 │         33 │          0 │         23 │         21 │ Staten Island │ MULTIPOLYGON (((575441.898302898 4491397.132737916, 575623.9684967292 4491272.617317605, 575540.8448091304 4491131.384355877, 575535.7561513839 4491122.761859279, 575502.5112266715 4491066.430530817, 575433.4751126925 4490949.449963717, 575329.7375088218 4490773.670344726, 575161.3837069425 4490904.621920971, 575025.9797051002 4491009.186919867, 575020.6655067619 4491013.290344792, 575071.3829727351 4491079.449512988, 575116.6532516159 4491139.769390702, 575165.0916763709 4491205.365870911, 575211.0681381105 4491266.7994918525, 575260.891091985 4491332.582663486, 575308.9395565627 4491395.632414687, 575354.8603762029 4491457.4753504945, 575360.0035038401 4491453.909765155, 575441.898302898 4491397.132737916)))                                                                                                                                                                                                                                                                                                                                                                                                                                                                                                                                                                                                                                                                                                                                │\n",
              "│ 360850138001000 │         22 │         22 │          0 │          0 │          0 │          0 │ Staten Island │ MULTIPOLYGON (((573055.2945856147 4491621.860057309, 572936.5777776275 4491601.766410038, 572922.6229879115 4491685.504718478, 572950.2781064857 4491690.188677361, 573042.9206625067 4491705.395378966, 573055.2945856147 4491621.860057309)))                                                                                                                                                                                                                                                                                                                                                                                                                                                                                                                                                                                                                                                                                                                                                                                                                                                                                                                                                                                                                                                                                                                                                                                                                                │\n",
              "│ 360850146051000 │         48 │         48 │          0 │          0 │          0 │          0 │ Staten Island │ MULTIPOLYGON (((571826.8104344463 4490858.120293343, 571765.5193160891 4490809.566317605, 571650.2458215063 4490953.058214967, 571702.4749013704 4491011.601407409, 571826.8104344463 4490858.120293343)))                                                                                                                                                                                                                                                                                                                                                                                                                                                                                                                                                                                                                                                                                                                                                                                                                                                                                                                                                                                                                                                                                                                                                                                                                                                                     │\n",
              "│ 360850146071000 │          0 │          0 │          0 │          0 │          0 │          0 │ Staten Island │ MULTIPOLYGON (((570905.0397259424 4490255.700225249, 570926.1248979616 4490177.460768036, 570717.8269130761 4490140.027240096, 570694.9234041496 4490262.167560971, 570793.0883148265 4490285.876476176, 570882.1908014554 4490337.479473903, 570905.0397259424 4490255.700225249)))                                                                                                                                                                                                                                                                                                                                                                                                                                                                                                                                                                                                                                                                                                                                                                                                                                                                                                                                                                                                                                                                                                                                                                                           │\n",
              "│        ·        │          · │          · │          · │          · │          · │          · │     ·         │                                                                                                    ·                                                                                                                                                                                                                                                                                                                                                                                                                                                                                                                                                                                                                                                                                                                                                                                                                                                                                                                                                                                                                                                                                                                                                                                                                                                                                                                                                                           │\n",
              "│        ·        │          · │          · │          · │          · │          · │          · │     ·         │                                                                                                    ·                                                                                                                                                                                                                                                                                                                                                                                                                                                                                                                                                                                                                                                                                                                                                                                                                                                                                                                                                                                                                                                                                                                                                                                                                                                                                                                                                                           │\n",
              "│        ·        │          · │          · │          · │          · │          · │          · │     ·         │                                                                                                    ·                                                                                                                                                                                                                                                                                                                                                                                                                                                                                                                                                                                                                                                                                                                                                                                                                                                                                                                                                                                                                                                                                                                                                                                                                                                                                                                                                                           │\n",
              "│ 360610137003004 │          0 │          0 │          0 │          0 │          0 │          0 │ Manhattan     │ MULTIPOLYGON (((586043.8459322746 4513152.856523706, 586006.4326383513 4513083.494670042, 585901.5381509329 4513139.0765416, 585919.7780134109 4513219.846057459, 586043.8459322746 4513152.856523706)))                                                                                                                                                                                                                                                                                                                                                                                                                                                                                                                                                                                                                                                                                                                                                                                                                                                                                                                                                                                                                                                                                                                                                                                                                                                                       │\n",
              "│ 360610164003004 │        328 │         66 │        123 │          6 │         25 │        108 │ Manhattan     │ MULTIPOLYGON (((588916.7568034941 4515672.462092801, 588993.7339181391 4515626.446165882, 588955.3266853043 4515555.345798904, 588905.5021002663 4515582.4318646295, 588900.4522682453 4515585.177003408, 588916.7568034941 4515672.462092801)), ((588916.7568034941 4515672.462092801, 588928.0469950567 4515733.4175831005, 588930.2275371023 4515733.811986799, 588932.441474628 4515733.90578751, 588934.6475627917 4515733.6972377505, 588936.8047029814 4515733.190222725, 588938.872688993 4515732.394184557, 588940.8130149515 4515731.3239611555, 588942.5895338422 4515729.999490083, 588944.169150273 4515728.445445376, 588945.7515349659 4515727.329618988, 588947.1595415712 4515726.000511294, 588948.3646657701 4515724.485029341, 588949.3425104858 4515722.813853224, 588950.0732447894 4515721.020778256, 588950.5421019178 4515719.142144851, 588950.7395899117 4515717.215985728, 588950.6617106479 4515715.281295753, 588951.5023414922 4515710.847869452, 588951.7527560464 4515706.342403711, 588951.4086063525 4515701.843127108, 588950.4758678975 4515697.428160759, 588948.97073586 4515693.1741619, 588946.9193439159 4515689.154992876, 588944.3573104689 4515685.440438672, 588941.329124175 4515682.094980179, 588937.8873570849 4515679.176719785, 588934.0917689147 4515676.736327493, 588930.0082628081 4515674.816176037, 588925.7077410489 4515673.449605165, 588921.2648739809 4515672.660342746, 588916.7568034941 4515672.462092801))) │\n",
              "│ 360610223013004 │          0 │          0 │          0 │          0 │          0 │          0 │ Manhattan     │ MULTIPOLYGON (((587939.761896028 4519655.624866211, 587900.7431321198 4519587.277659835, 587831.3469111167 4519465.9710412165, 587826.0094295214 4519468.665514678, 587816.2891607506 4519473.09451475, 587853.4636758724 4519538.085505344, 587890.3754135516 4519582.121453518, 587920.2067272346 4519633.462334453, 587933.8296635587 4519656.907978424, 587939.761896028 4519655.624866211)))                                                                                                                                                                                                                                                                                                                                                                                                                                                                                                                                                                                                                                                                                                                                                                                                                                                                                                                                                                                                                                                                              │\n",
              "│ 360610196003005 │          0 │          0 │          0 │          0 │          0 │          0 │ Manhattan     │ MULTIPOLYGON (((589765.2612160023 4517511.045155144, 589724.5087158459 4517435.479643034, 589588.3145255775 4517508.8239779845, 589629.1868479963 4517584.311721155, 589765.2612160023 4517511.045155144)))                                                                                                                                                                                                                                                                                                                                                                                                                                                                                                                                                                                                                                                                                                                                                                                                                                                                                                                                                                                                                                                                                                                                                                                                                                                                    │\n",
              "│ 360610231003005 │        466 │         80 │        252 │          3 │          3 │        128 │ Manhattan     │ MULTIPOLYGON (((589024.2308489021 4519834.157746931, 588983.9459393524 4519758.919431145, 588859.5052308104 4519826.264450577, 588900.0624112358 4519901.210931773, 589024.2308489021 4519834.157746931)))                                                                                                                                                                                                                                                                                                                                                                                                                                                                                                                                                                                                                                                                                                                                                                                                                                                                                                                                                                                                                                                                                                                                                                                                                                                                     │\n",
              "│ 360610037003006 │         16 │         14 │          0 │          0 │          0 │          2 │ Manhattan     │ MULTIPOLYGON (((584065.632781774 4508768.696128664, 584058.4868174281 4508696.596533954, 583952.898956048 4508708.253792132, 583961.6736751623 4508780.251194997, 584065.632781774 4508768.696128664)))                                                                                                                                                                                                                                                                                                                                                                                                                                                                                                                                                                                                                                                                                                                                                                                                                                                                                                                                                                                                                                                                                                                                                                                                                                                                        │\n",
              "│ 360610037003007 │          4 │          3 │          0 │          0 │          0 │          1 │ Manhattan     │ MULTIPOLYGON (((583961.6736751623 4508780.251194997, 583952.898956048 4508708.253792132, 583862.5801514282 4508718.351469685, 583802.8028313487 4508725.027934362, 583810.4461889047 4508788.560442622, 583811.4691203862 4508797.061930261, 583961.6736751623 4508780.251194997)))                                                                                                                                                                                                                                                                                                                                                                                                                                                                                                                                                                                                                                                                                                                                                                                                                                                                                                                                                                                                                                                                                                                                                                                            │\n",
              "│ 360610242003007 │          0 │          0 │          0 │          0 │          0 │          0 │ Manhattan     │ MULTIPOLYGON (((590030.7395489868 4517554.818763776, 589996.2568074524 4517483.355752748, 589805.6909379831 4517585.986007879, 589843.2514105077 4517655.745426407, 590030.7395489868 4517554.818763776)))                                                                                                                                                                                                                                                                                                                                                                                                                                                                                                                                                                                                                                                                                                                                                                                                                                                                                                                                                                                                                                                                                                                                                                                                                                                                     │\n",
              "│ 360610037003008 │         55 │         53 │          1 │          0 │          0 │          1 │ Manhattan     │ MULTIPOLYGON (((583952.898956048 4508708.253792132, 583941.359856568 4508638.982490289, 583857.9257660835 4508648.343689252, 583794.2048915306 4508655.237199755, 583802.8028313487 4508725.027934362, 583862.5801514282 4508718.351469685, 583952.898956048 4508708.253792132)))                                                                                                                                                                                                                                                                                                                                                                                                                                                                                                                                                                                                                                                                                                                                                                                                                                                                                                                                                                                                                                                                                                                                                                                              │\n",
              "│ 360610033003011 │        115 │        103 │          1 │          0 │          8 │          3 │ Manhattan     │ MULTIPOLYGON (((584012.5234620287 4508264.719065071, 584016.385902351 4508220.785887431, 583992.3130003161 4508187.147887789, 583952.4258341646 4508191.0106716445, 583962.1355510587 4508270.626666824, 584012.5234620287 4508264.719065071)))                                                                                                                                                                                                                                                                                                                                                                                                                                                                                                                                                                                                                                                                                                                                                                                                                                                                                                                                                                                                                                                                                                                                                                                                                                │\n",
              "├─────────────────┴────────────┴────────────┴────────────┴────────────┴────────────┴────────────┴───────────────┴────────────────────────────────────────────────────────────────────────────────────────────────────────────────────────────────────────────────────────────────────────────────────────────────────────────────────────────────────────────────────────────────────────────────────────────────────────────────────────────────────────────────────────────────────────────────────────────────────────────────────────────────────────────────────────────────────────────────────────────────────────────────────────────────────────────────────────────────────────────────────────────────────────────────────────────────────────────────────────────────────────────────────────────────────────────────────────────────────────────────────────────────────────────────────────────────────────────────────────────────────────────────────────────────────────────────────────────────────────────────────────────────────────────────────────────────────────────────────────────────────────────────────────────────────────────────────────────────────────────────────────────────────────────────────────────────────────────────────────────────────────────────────────────────────────────────────────────────────────────────────────────────────────────────────────────────────────────────────────────────────────────────────────────────────────────────────────────────────────────────────────────────────────────────────────────────────────────────┤\n",
              "│ ? rows (>9999 rows, 20 shown)                                                                                                                                                                                                                                                                                                                                                                                                                                                                                                                                                                                                                                                                                                                                                                                                                                                                                                                                                                                                                                                                                                                                                                                                                                                                                                                                                                                                                                                                                                                                                        9 columns │\n",
              "└────────────────────────────────────────────────────────────────────────────────────────────────────────────────────────────────────────────────────────────────────────────────────────────────────────────────────────────────────────────────────────────────────────────────────────────────────────────────────────────────────────────────────────────────────────────────────────────────────────────────────────────────────────────────────────────────────────────────────────────────────────────────────────────────────────────────────────────────────────────────────────────────────────────────────────────────────────────────────────────────────────────────────────────────────────────────────────────────────────────────────────────────────────────────────────────────────────────────────────────────────────────────────────────────────────────────────────────────────────────────────────────────────────────────────────────────────────────────────────────────────────────────────────────────────────────────────────────────────────────────────────────────────────────────────────────────────────────────────────────────────────────────────────────────────────────────────────────────────────────────────────────────────────────────────────────────────────────────────────────────────────────────────────────────────────────────────────────────────────────────────────────────────────────────────────────────────────────────────────────────────────────────────────────────────────────────────────────────────────────────────────────────┘"
            ]
          },
          "metadata": {},
          "execution_count": 22
        }
      ]
    },
    {
      "cell_type": "markdown",
      "metadata": {
        "id": "fG3VJgLFWCWe"
      },
      "source": [
        "3. **After 9/11, the \\'Battery Park\\' neighborhood was off limits for several days. How many people had to be evacuated?**"
      ]
    },
    {
      "cell_type": "code",
      "execution_count": 40,
      "metadata": {
        "id": "OgYX4qsXWCWg",
        "outputId": "50df0269-3fa6-4dce-b3b6-152695321310",
        "colab": {
          "base_uri": "https://localhost:8080/"
        }
      },
      "outputs": [
        {
          "output_type": "execute_result",
          "data": {
            "text/plain": [
              "┌─────────────────┐\n",
              "│ total_evacuated │\n",
              "│     int128      │\n",
              "├─────────────────┤\n",
              "│           17153 │\n",
              "└─────────────────┘"
            ]
          },
          "metadata": {},
          "execution_count": 40
        }
      ],
      "source": [
        "con.sql(\"\"\"\n",
        "SELECT SUM(cb.POPN_TOTAL) AS total_evacuated\n",
        "FROM nyc_census_blocks cb\n",
        "JOIN nyc_neighborhoods n\n",
        "ON ST_intersects(n.geom, cb.geom)\n",
        "WHERE n.name = 'Battery Park';\n",
        "\"\"\")"
      ]
    },
    {
      "cell_type": "markdown",
      "metadata": {
        "id": "tFBpfei1WCWg"
      },
      "source": [
        "4. **What neighborhood has the highest population density (persons/km2)?**\n"
      ]
    },
    {
      "cell_type": "code",
      "execution_count": 38,
      "metadata": {
        "id": "kvw-ume2WCWh",
        "outputId": "27321cb6-d3a6-471c-978c-edb7ed1f520d",
        "colab": {
          "base_uri": "https://localhost:8080/"
        }
      },
      "outputs": [
        {
          "output_type": "execute_result",
          "data": {
            "text/plain": [
              "┌───────────────────┬───────────────────┐\n",
              "│       NAME        │   popn_per_sqkm   │\n",
              "│      varchar      │      double       │\n",
              "├───────────────────┼───────────────────┤\n",
              "│ North Sutton Area │ 68435.13283772678 │\n",
              "│ East Village      │ 50404.48341332535 │\n",
              "└───────────────────┴───────────────────┘"
            ]
          },
          "metadata": {},
          "execution_count": 38
        }
      ],
      "source": [
        "con.sql(\"\"\"\n",
        "SELECT\n",
        "  n.name,\n",
        "  Sum(c.popn_total) / (ST_Area(n.geom) / 1000000.0) AS popn_per_sqkm\n",
        "FROM nyc_census_blocks AS c\n",
        "JOIN nyc_neighborhoods AS n\n",
        "ON ST_Intersects(c.geom, n.geom)\n",
        "GROUP BY n.name, n.geom\n",
        "ORDER BY popn_per_sqkm DESC LIMIT 2;\n",
        "\"\"\")"
      ]
    },
    {
      "cell_type": "markdown",
      "metadata": {
        "id": "iHOJysMaWCWh"
      },
      "source": [
        "When you're finished, you can check your answers [here](https://postgis.net/workshops/postgis-intro/joins_exercises.html)."
      ]
    },
    {
      "cell_type": "markdown",
      "metadata": {
        "id": "j5KubXKJWCWi"
      },
      "source": [
        "# Ship-to-Ship Transfer Detection\n",
        "\n",
        "Now for a less structured exercise. We're going to look at ship-to-ship transfers. The idea is that two ships meet up in the middle of the ocean, and one ship transfers cargo to the other. This is a common way to avoid sanctions, and is often used to transfer oil from sanctioned countries to other countries. We're going to look at a few different ways to detect these transfers using AIS data."
      ]
    },
    {
      "cell_type": "code",
      "execution_count": null,
      "metadata": {
        "id": "39I0F2SXWCWi"
      },
      "outputs": [],
      "source": [
        "%pip install duckdb duckdb-engine jupysql"
      ]
    },
    {
      "cell_type": "code",
      "execution_count": null,
      "metadata": {
        "id": "_beYxsX_WCWj"
      },
      "outputs": [],
      "source": [
        "import duckdb\n",
        "import pandas as pd\n",
        "\n",
        "# Import jupysql Jupyter extension to create SQL cells\n",
        "%load_ext sql\n",
        "%config SqlMagic.autopandas = True\n",
        "%config SqlMagic.feedback = False\n",
        "%config SqlMagic.displaycon = False\n",
        "%sql duckdb:///:memory:"
      ]
    },
    {
      "cell_type": "code",
      "execution_count": null,
      "metadata": {
        "id": "fleIXTi6WCWj"
      },
      "outputs": [],
      "source": [
        "%%sql\n",
        "INSTALL httpfs;\n",
        "LOAD httpfs;\n",
        "INSTALL spatial;\n",
        "LOAD spatial;"
      ]
    },
    {
      "cell_type": "markdown",
      "metadata": {
        "id": "cd4huEnyWCWk"
      },
      "source": [
        "## Step 1\n",
        "\n",
        "Create a spatial database using the following AIS data:\n",
        "\n",
        "https://storage.googleapis.com/qm2/casa0025_ships.csv\n",
        "\n",
        "Each row in this dataset is an AIS 'ping' indicating the position of a ship at a particular date/time, alongside vessel-level characteristics.\n",
        "\n",
        "It contains the following columns:\n",
        "* `vesselid`: A unique numerical identifier for each ship, like a license plate\n",
        "* `vessel_name`: The ship's name\n",
        "* `vsl_descr`: The ship's type\n",
        "* `dwt`: The ship's Deadweight Tonnage (how many tons it can carry)\n",
        "* `v_length`: The ship's length in meters\n",
        "* `draught`: How many meters deep the ship is draughting (how low it sits in the water). Effectively indicates how much cargo the ship is carrying\n",
        "* `sog`: Speed over Ground (in knots)\n",
        "* `date`: A timestamp for the AIS signal\n",
        "* `lat`: The latitude of the AIS signal (EPSG:4326)\n",
        "* `lon`: The longitude of the AIS signal (EPSG:4326)\n",
        "\n",
        "Create a table called 'ais' where each row is a different AIS ping, with no superfluous information. Construct a geometry column.\n",
        "\n",
        "Create a second table called 'vinfo' which contains vessel-level information with no superfluous information.\n",
        "\n",
        "You can set a spatial index on each of these tables as follows:\n",
        "\n",
        "`CREATE INDEX index_name ON table_name USING RTREE(geom);`"
      ]
    },
    {
      "cell_type": "code",
      "execution_count": null,
      "metadata": {
        "id": "t_aZ5i3sWCWk"
      },
      "outputs": [],
      "source": []
    },
    {
      "cell_type": "markdown",
      "metadata": {
        "id": "nX3D_8F5WCWl"
      },
      "source": [
        "## Step 2\n",
        "\n",
        "Use a spatial join to identify ship-to-ship transfers in this dataset.\n",
        "Two ships are considered to be conducting a ship to ship transfer IF:\n",
        "\n",
        "* They are within 500 meters of each other\n",
        "* For more than two hours\n",
        "* And their speed is lower than 1 knot\n",
        "\n",
        "Some things to consider: make sure you're not joining ships with themselves. Try working with subsets of the data first while you try different things out."
      ]
    },
    {
      "cell_type": "code",
      "execution_count": null,
      "metadata": {
        "id": "-B2nftuIWCWl"
      },
      "outputs": [],
      "source": []
    }
  ],
  "metadata": {
    "language_info": {
      "name": "python"
    },
    "colab": {
      "provenance": []
    },
    "kernelspec": {
      "name": "python3",
      "display_name": "Python 3"
    }
  },
  "nbformat": 4,
  "nbformat_minor": 0
}